{
 "cells": [
  {
   "cell_type": "markdown",
   "metadata": {},
   "source": [
    "# Páginas para programar python"
   ]
  },
  {
   "cell_type": "markdown",
   "metadata": {},
   "source": [
    "1. www.mybinder.org\n",
    "2. www.kaggle.com\n",
    "3. www.jupyter.org/try\n",
    "4. `github jobish` https://mybinder.org/v2/gh/jobish03/jobish03-Visualizacion_de_datos_para_la_toma_de_decisiones/main?filepath=welcome_binder.ipynb\n",
    "\n",
    "Los paquetes hay que incluir en el archivo `requirements.txt`"
   ]
  },
  {
   "cell_type": "markdown",
   "metadata": {},
   "source": [
    "## NYC MATH TEST 2006-2011"
   ]
  },
  {
   "cell_type": "markdown",
   "metadata": {},
   "source": [
    "## Introduccion\n",
    "En este programa se presnetara el acomodo de el dataset City\n",
    "\"2006 - 2011 NYS Math Test Results by Grade - Citywide - by Race-Ethnicity\".\n",
    "En donde se ve las calificaciones obtenidas divididas en por grados y raza etnicas. En los \"Levels\" se encuentra el nivel de co petencia que se tiene en cada grado."
   ]
  },
  {
   "cell_type": "code",
   "execution_count": 2,
   "metadata": {},
   "outputs": [],
   "source": [
    "import pandas as pd\n",
    "import numpy as np\n",
    "import seaborn as sns"
   ]
  },
  {
   "cell_type": "code",
   "execution_count": 3,
   "metadata": {},
   "outputs": [],
   "source": [
    "import matplotlib.pyplot as plt"
   ]
  },
  {
   "cell_type": "markdown",
   "metadata": {},
   "source": [
    "## Descripcion de Variables\n",
    "Grade - Grado que se cursa \n",
    "\n",
    "Year - año\n",
    "\n",
    "Category - raza etnica\n",
    "\n",
    "Number Tested - Personas que presentaron\n",
    "\n",
    "Mean Scale Score - Ponderacion de las calificaciones \n",
    "\n",
    "Level # - Nivel de Competencia \n",
    "\n",
    "Level % - Nivel de Competencia"
   ]
  },
  {
   "cell_type": "code",
   "execution_count": 4,
   "metadata": {},
   "outputs": [
    {
     "data": {
      "text/html": [
       "<div>\n",
       "<style scoped>\n",
       "    .dataframe tbody tr th:only-of-type {\n",
       "        vertical-align: middle;\n",
       "    }\n",
       "\n",
       "    .dataframe tbody tr th {\n",
       "        vertical-align: top;\n",
       "    }\n",
       "\n",
       "    .dataframe thead th {\n",
       "        text-align: right;\n",
       "    }\n",
       "</style>\n",
       "<table border=\"1\" class=\"dataframe\">\n",
       "  <thead>\n",
       "    <tr style=\"text-align: right;\">\n",
       "      <th></th>\n",
       "      <th>Grade</th>\n",
       "      <th>Year</th>\n",
       "      <th>Category</th>\n",
       "      <th>Number Tested</th>\n",
       "      <th>Mean Scale Score</th>\n",
       "      <th>Level 1 #</th>\n",
       "      <th>Level 1 %</th>\n",
       "      <th>Level 2 #</th>\n",
       "      <th>Level 2 %</th>\n",
       "      <th>Level 3 #</th>\n",
       "      <th>Level 3 %</th>\n",
       "      <th>Level 4 #</th>\n",
       "      <th>Level 4 %</th>\n",
       "      <th>Level 3+4 #</th>\n",
       "      <th>Level 3+4 %</th>\n",
       "    </tr>\n",
       "  </thead>\n",
       "  <tbody>\n",
       "    <tr>\n",
       "      <th>0</th>\n",
       "      <td>3</td>\n",
       "      <td>2006</td>\n",
       "      <td>Asian</td>\n",
       "      <td>9768</td>\n",
       "      <td>700</td>\n",
       "      <td>243</td>\n",
       "      <td>2.5</td>\n",
       "      <td>543</td>\n",
       "      <td>5.6</td>\n",
       "      <td>4128</td>\n",
       "      <td>42.3</td>\n",
       "      <td>4854</td>\n",
       "      <td>49.7</td>\n",
       "      <td>8982</td>\n",
       "      <td>92.0</td>\n",
       "    </tr>\n",
       "    <tr>\n",
       "      <th>1</th>\n",
       "      <td>4</td>\n",
       "      <td>2006</td>\n",
       "      <td>Asian</td>\n",
       "      <td>9973</td>\n",
       "      <td>699</td>\n",
       "      <td>294</td>\n",
       "      <td>2.9</td>\n",
       "      <td>600</td>\n",
       "      <td>6.0</td>\n",
       "      <td>4245</td>\n",
       "      <td>42.6</td>\n",
       "      <td>4834</td>\n",
       "      <td>48.5</td>\n",
       "      <td>9079</td>\n",
       "      <td>91.0</td>\n",
       "    </tr>\n",
       "    <tr>\n",
       "      <th>2</th>\n",
       "      <td>5</td>\n",
       "      <td>2006</td>\n",
       "      <td>Asian</td>\n",
       "      <td>9852</td>\n",
       "      <td>691</td>\n",
       "      <td>369</td>\n",
       "      <td>3.7</td>\n",
       "      <td>907</td>\n",
       "      <td>9.2</td>\n",
       "      <td>4379</td>\n",
       "      <td>44.4</td>\n",
       "      <td>4197</td>\n",
       "      <td>42.6</td>\n",
       "      <td>8576</td>\n",
       "      <td>87.0</td>\n",
       "    </tr>\n",
       "    <tr>\n",
       "      <th>3</th>\n",
       "      <td>6</td>\n",
       "      <td>2006</td>\n",
       "      <td>Asian</td>\n",
       "      <td>9606</td>\n",
       "      <td>682</td>\n",
       "      <td>452</td>\n",
       "      <td>4.7</td>\n",
       "      <td>1176</td>\n",
       "      <td>12.2</td>\n",
       "      <td>4646</td>\n",
       "      <td>48.4</td>\n",
       "      <td>3332</td>\n",
       "      <td>34.7</td>\n",
       "      <td>7978</td>\n",
       "      <td>83.1</td>\n",
       "    </tr>\n",
       "    <tr>\n",
       "      <th>4</th>\n",
       "      <td>7</td>\n",
       "      <td>2006</td>\n",
       "      <td>Asian</td>\n",
       "      <td>9433</td>\n",
       "      <td>671</td>\n",
       "      <td>521</td>\n",
       "      <td>5.5</td>\n",
       "      <td>1698</td>\n",
       "      <td>18.0</td>\n",
       "      <td>4690</td>\n",
       "      <td>49.7</td>\n",
       "      <td>2524</td>\n",
       "      <td>26.8</td>\n",
       "      <td>7214</td>\n",
       "      <td>76.5</td>\n",
       "    </tr>\n",
       "    <tr>\n",
       "      <th>...</th>\n",
       "      <td>...</td>\n",
       "      <td>...</td>\n",
       "      <td>...</td>\n",
       "      <td>...</td>\n",
       "      <td>...</td>\n",
       "      <td>...</td>\n",
       "      <td>...</td>\n",
       "      <td>...</td>\n",
       "      <td>...</td>\n",
       "      <td>...</td>\n",
       "      <td>...</td>\n",
       "      <td>...</td>\n",
       "      <td>...</td>\n",
       "      <td>...</td>\n",
       "      <td>...</td>\n",
       "    </tr>\n",
       "    <tr>\n",
       "      <th>163</th>\n",
       "      <td>5</td>\n",
       "      <td>2011</td>\n",
       "      <td>White</td>\n",
       "      <td>10808</td>\n",
       "      <td>699</td>\n",
       "      <td>311</td>\n",
       "      <td>2.9</td>\n",
       "      <td>1709</td>\n",
       "      <td>15.8</td>\n",
       "      <td>4532</td>\n",
       "      <td>41.9</td>\n",
       "      <td>4256</td>\n",
       "      <td>39.4</td>\n",
       "      <td>8788</td>\n",
       "      <td>81.3</td>\n",
       "    </tr>\n",
       "    <tr>\n",
       "      <th>164</th>\n",
       "      <td>6</td>\n",
       "      <td>2011</td>\n",
       "      <td>White</td>\n",
       "      <td>9875</td>\n",
       "      <td>695</td>\n",
       "      <td>409</td>\n",
       "      <td>4.1</td>\n",
       "      <td>1818</td>\n",
       "      <td>18.4</td>\n",
       "      <td>3435</td>\n",
       "      <td>34.8</td>\n",
       "      <td>4213</td>\n",
       "      <td>42.7</td>\n",
       "      <td>7648</td>\n",
       "      <td>77.4</td>\n",
       "    </tr>\n",
       "    <tr>\n",
       "      <th>165</th>\n",
       "      <td>7</td>\n",
       "      <td>2011</td>\n",
       "      <td>White</td>\n",
       "      <td>9679</td>\n",
       "      <td>690</td>\n",
       "      <td>423</td>\n",
       "      <td>4.4</td>\n",
       "      <td>1739</td>\n",
       "      <td>18.0</td>\n",
       "      <td>3023</td>\n",
       "      <td>31.2</td>\n",
       "      <td>4494</td>\n",
       "      <td>46.4</td>\n",
       "      <td>7517</td>\n",
       "      <td>77.7</td>\n",
       "    </tr>\n",
       "    <tr>\n",
       "      <th>166</th>\n",
       "      <td>8</td>\n",
       "      <td>2011</td>\n",
       "      <td>White</td>\n",
       "      <td>9570</td>\n",
       "      <td>688</td>\n",
       "      <td>433</td>\n",
       "      <td>4.5</td>\n",
       "      <td>2190</td>\n",
       "      <td>22.9</td>\n",
       "      <td>4142</td>\n",
       "      <td>43.3</td>\n",
       "      <td>2805</td>\n",
       "      <td>29.3</td>\n",
       "      <td>6947</td>\n",
       "      <td>72.6</td>\n",
       "    </tr>\n",
       "    <tr>\n",
       "      <th>167</th>\n",
       "      <td>All Grades</td>\n",
       "      <td>2011</td>\n",
       "      <td>White</td>\n",
       "      <td>62193</td>\n",
       "      <td>695</td>\n",
       "      <td>2418</td>\n",
       "      <td>3.9</td>\n",
       "      <td>11336</td>\n",
       "      <td>18.2</td>\n",
       "      <td>25191</td>\n",
       "      <td>40.5</td>\n",
       "      <td>23248</td>\n",
       "      <td>37.4</td>\n",
       "      <td>48439</td>\n",
       "      <td>77.9</td>\n",
       "    </tr>\n",
       "  </tbody>\n",
       "</table>\n",
       "<p>168 rows × 15 columns</p>\n",
       "</div>"
      ],
      "text/plain": [
       "          Grade  Year Category  Number Tested  Mean Scale Score  Level 1 #  \\\n",
       "0             3  2006    Asian           9768               700        243   \n",
       "1             4  2006    Asian           9973               699        294   \n",
       "2             5  2006    Asian           9852               691        369   \n",
       "3             6  2006    Asian           9606               682        452   \n",
       "4             7  2006    Asian           9433               671        521   \n",
       "..          ...   ...      ...            ...               ...        ...   \n",
       "163           5  2011    White          10808               699        311   \n",
       "164           6  2011    White           9875               695        409   \n",
       "165           7  2011    White           9679               690        423   \n",
       "166           8  2011    White           9570               688        433   \n",
       "167  All Grades  2011    White          62193               695       2418   \n",
       "\n",
       "     Level 1 %  Level 2 #  Level 2 %  Level 3 #  Level 3 %  Level 4 #  \\\n",
       "0          2.5        543        5.6       4128       42.3       4854   \n",
       "1          2.9        600        6.0       4245       42.6       4834   \n",
       "2          3.7        907        9.2       4379       44.4       4197   \n",
       "3          4.7       1176       12.2       4646       48.4       3332   \n",
       "4          5.5       1698       18.0       4690       49.7       2524   \n",
       "..         ...        ...        ...        ...        ...        ...   \n",
       "163        2.9       1709       15.8       4532       41.9       4256   \n",
       "164        4.1       1818       18.4       3435       34.8       4213   \n",
       "165        4.4       1739       18.0       3023       31.2       4494   \n",
       "166        4.5       2190       22.9       4142       43.3       2805   \n",
       "167        3.9      11336       18.2      25191       40.5      23248   \n",
       "\n",
       "     Level 4 %  Level 3+4 #  Level 3+4 %  \n",
       "0         49.7         8982         92.0  \n",
       "1         48.5         9079         91.0  \n",
       "2         42.6         8576         87.0  \n",
       "3         34.7         7978         83.1  \n",
       "4         26.8         7214         76.5  \n",
       "..         ...          ...          ...  \n",
       "163       39.4         8788         81.3  \n",
       "164       42.7         7648         77.4  \n",
       "165       46.4         7517         77.7  \n",
       "166       29.3         6947         72.6  \n",
       "167       37.4        48439         77.9  \n",
       "\n",
       "[168 rows x 15 columns]"
      ]
     },
     "execution_count": 4,
     "metadata": {},
     "output_type": "execute_result"
    }
   ],
   "source": [
    "df = pd.read_csv('NYS_Math_Test_Results.csv')\n",
    "df"
   ]
  },
  {
   "cell_type": "markdown",
   "metadata": {},
   "source": [
    "#### Pregunta 1\n",
    "Cual es la Raza Etnica con el promedio mas alto?\n",
    "\n",
    "Entre que resultados se tiene en el promedio?"
   ]
  },
  {
   "cell_type": "code",
   "execution_count": 5,
   "metadata": {},
   "outputs": [
    {
     "data": {
      "text/plain": [
       "<matplotlib.axes._subplots.AxesSubplot at 0x7f2b37141190>"
      ]
     },
     "execution_count": 5,
     "metadata": {},
     "output_type": "execute_result"
    },
    {
     "data": {
      "image/png": "[encoded data removed]",
      "text/plain": [
       "<Figure size 432x288 with 1 Axes>"
      ]
     },
     "metadata": {
      "needs_background": "light"
     },
     "output_type": "display_data"
    }
   ],
   "source": [
    "sns.swarmplot(x = 'Category',\n",
    "              y = 'Mean Scale Score',\n",
    "              data = df\n",
    "             )"
   ]
  },
  {
   "cell_type": "code",
   "execution_count": 6,
   "metadata": {},
   "outputs": [
    {
     "data": {
      "text/plain": [
       "<matplotlib.axes._subplots.AxesSubplot at 0x7f2b3449ebd0>"
      ]
     },
     "execution_count": 6,
     "metadata": {},
     "output_type": "execute_result"
    },
    {
     "data": {
      "image/png": "[encoded data removed]",
      "text/plain": [
       "<Figure size 432x288 with 1 Axes>"
      ]
     },
     "metadata": {
      "needs_background": "light"
     },
     "output_type": "display_data"
    }
   ],
   "source": [
    "sns.boxplot(data = df.loc[:, ['Mean Scale Score']],\n",
    "             )"
   ]
  },
  {
   "cell_type": "markdown",
   "metadata": {},
   "source": [
    "#### Resultados\n",
    "\n",
    "- Los asiaticos son los que mejor promedio generan.\n",
    "\n",
    "- Existe un range en el promedio de calificacion 620 a 720."
   ]
  },
  {
   "cell_type": "markdown",
   "metadata": {},
   "source": [
    "## Preguntas 2\n",
    "Existen valores atipicos en cuantas personas presentaron? \n",
    "\n",
    "Existe un nivel de competitividad mejor en cada nivel? Y entre que rangos se califican los niveles \"Level %\"?"
   ]
  },
  {
   "cell_type": "code",
   "execution_count": 7,
   "metadata": {},
   "outputs": [
    {
     "data": {
      "text/plain": [
       "<matplotlib.axes._subplots.AxesSubplot at 0x7f2b33d5fdd0>"
      ]
     },
     "execution_count": 7,
     "metadata": {},
     "output_type": "execute_result"
    },
    {
     "data": {
      "image/png": "[encoded data removed]",
      "text/plain": [
       "<Figure size 432x288 with 1 Axes>"
      ]
     },
     "metadata": {
      "needs_background": "light"
     },
     "output_type": "display_data"
    }
   ],
   "source": [
    "sns.boxplot(data = df.loc[:, ['Number Tested']],\n",
    "             )"
   ]
  },
  {
   "cell_type": "code",
   "execution_count": 12,
   "metadata": {},
   "outputs": [
    {
     "data": {
      "text/plain": [
       "<matplotlib.axes._subplots.AxesSubplot at 0x7f2b33aba110>"
      ]
     },
     "execution_count": 12,
     "metadata": {},
     "output_type": "execute_result"
    },
    {
     "data": {
      "image/png": "[encoded data removed]",
      "text/plain": [
       "<Figure size 432x288 with 1 Axes>"
      ]
     },
     "metadata": {
      "needs_background": "light"
     },
     "output_type": "display_data"
    }
   ],
   "source": [
    "sns.boxplot(data = df.loc[:, ['Level 1 %', 'Level 2 %',\n",
    "       'Level 3 %', 'Level 4 %', 'Level 3+4 %']],\n",
    "             )"
   ]
  },
  {
   "cell_type": "markdown",
   "metadata": {},
   "source": [
    "#### Resultados\n",
    "- Existen valores atipicos en donde hubo un numero exagerado de personas que presetaron. Y los rangos en el nievl % son de 0 a 100 indicando que se habla de porcentaje y podemos ver que si existe un crecimiento de competitividad en cada nivel excepto por el nivel 4 que se redujo este porcentaje."
   ]
  },
  {
   "cell_type": "markdown",
   "metadata": {},
   "source": [
    "## Preguntas 3\n",
    "Cual es la Categoria que mas presenta el examen?\n",
    "\n",
    "Existe alguna correlacion entre las calificaciones y el numer de personas que presentaron?"
   ]
  },
  {
   "cell_type": "code",
   "execution_count": 9,
   "metadata": {},
   "outputs": [
    {
     "data": {
      "text/plain": [
       "<matplotlib.axes._subplots.AxesSubplot at 0x7f2b33e08e10>"
      ]
     },
     "execution_count": 9,
     "metadata": {},
     "output_type": "execute_result"
    },
    {
     "data": {
      "image/png": "[encoded data removed]",
      "text/plain": [
       "<Figure size 432x288 with 1 Axes>"
      ]
     },
     "metadata": {
      "needs_background": "light"
     },
     "output_type": "display_data"
    }
   ],
   "source": [
    "sns.countplot(x = 'Category',data = df)"
   ]
  },
  {
   "cell_type": "code",
   "execution_count": 10,
   "metadata": {},
   "outputs": [
    {
     "data": {
      "image/png": "[encoded data removed]",
      "text/plain": [
       "<Figure size 438.75x360 with 1 Axes>"
      ]
     },
     "metadata": {
      "needs_background": "light"
     },
     "output_type": "display_data"
    }
   ],
   "source": [
    "sns.lmplot (x= 'Mean Scale Score',\n",
    "            y = 'Number Tested',\n",
    "            data = df,\n",
    "            fit_reg = False,\n",
    "            hue = 'Category'\n",
    "            \n",
    "           )\n",
    "plt.title('Mean Score vs Number Tested', fontsize = 17)\n",
    "plt.xticks(fontsize = 15)\n",
    "plt.show()"
   ]
  },
  {
   "cell_type": "markdown",
   "metadata": {},
   "source": [
    "#### Resultados\n",
    "- Presentaron la misma cantidad de personas de cada raza etnica. Y no existe una correlacion entre los valores de la cantidad de personas presentadas y el promedio. Esto se debe a que existen muchos valores atipicos en donde si se eliminan si existiria una correlacion positiva."
   ]
  },
  {
   "cell_type": "markdown",
   "metadata": {},
   "source": [
    "## CONCLUSION\n",
    "- Como quedaria acomodado de mejor manera una tabla pivote. Viendo el promedio de calificaciones de cada raza etnica en cada grado."
   ]
  },
  {
   "cell_type": "code",
   "execution_count": 11,
   "metadata": {},
   "outputs": [
    {
     "data": {
      "text/html": [
       "<div>\n",
       "<style scoped>\n",
       "    .dataframe tbody tr th:only-of-type {\n",
       "        vertical-align: middle;\n",
       "    }\n",
       "\n",
       "    .dataframe tbody tr th {\n",
       "        vertical-align: top;\n",
       "    }\n",
       "\n",
       "    .dataframe thead tr th {\n",
       "        text-align: left;\n",
       "    }\n",
       "\n",
       "    .dataframe thead tr:last-of-type th {\n",
       "        text-align: right;\n",
       "    }\n",
       "</style>\n",
       "<table border=\"1\" class=\"dataframe\">\n",
       "  <thead>\n",
       "    <tr>\n",
       "      <th></th>\n",
       "      <th colspan=\"4\" halign=\"left\">Mean Scale Score</th>\n",
       "      <th colspan=\"4\" halign=\"left\">Number Tested</th>\n",
       "    </tr>\n",
       "    <tr>\n",
       "      <th>Category</th>\n",
       "      <th>Asian</th>\n",
       "      <th>Black</th>\n",
       "      <th>Hispanic</th>\n",
       "      <th>White</th>\n",
       "      <th>Asian</th>\n",
       "      <th>Black</th>\n",
       "      <th>Hispanic</th>\n",
       "      <th>White</th>\n",
       "    </tr>\n",
       "    <tr>\n",
       "      <th>Grade</th>\n",
       "      <th></th>\n",
       "      <th></th>\n",
       "      <th></th>\n",
       "      <th></th>\n",
       "      <th></th>\n",
       "      <th></th>\n",
       "      <th></th>\n",
       "      <th></th>\n",
       "    </tr>\n",
       "  </thead>\n",
       "  <tbody>\n",
       "    <tr>\n",
       "      <th>3</th>\n",
       "      <td>705.000000</td>\n",
       "      <td>676.000000</td>\n",
       "      <td>678.333333</td>\n",
       "      <td>698.833333</td>\n",
       "      <td>10351.000000</td>\n",
       "      <td>21343.666667</td>\n",
       "      <td>28854.666667</td>\n",
       "      <td>10759.166667</td>\n",
       "    </tr>\n",
       "    <tr>\n",
       "      <th>4</th>\n",
       "      <td>707.000000</td>\n",
       "      <td>669.166667</td>\n",
       "      <td>672.166667</td>\n",
       "      <td>698.166667</td>\n",
       "      <td>10323.333333</td>\n",
       "      <td>21490.833333</td>\n",
       "      <td>28589.166667</td>\n",
       "      <td>10475.833333</td>\n",
       "    </tr>\n",
       "    <tr>\n",
       "      <th>5</th>\n",
       "      <td>701.833333</td>\n",
       "      <td>665.500000</td>\n",
       "      <td>668.833333</td>\n",
       "      <td>693.500000</td>\n",
       "      <td>10349.666667</td>\n",
       "      <td>21620.000000</td>\n",
       "      <td>28497.333333</td>\n",
       "      <td>10276.000000</td>\n",
       "    </tr>\n",
       "    <tr>\n",
       "      <th>6</th>\n",
       "      <td>697.000000</td>\n",
       "      <td>657.000000</td>\n",
       "      <td>660.000000</td>\n",
       "      <td>685.833333</td>\n",
       "      <td>10087.333333</td>\n",
       "      <td>21949.666667</td>\n",
       "      <td>28166.833333</td>\n",
       "      <td>9820.833333</td>\n",
       "    </tr>\n",
       "    <tr>\n",
       "      <th>7</th>\n",
       "      <td>690.166667</td>\n",
       "      <td>653.000000</td>\n",
       "      <td>655.833333</td>\n",
       "      <td>681.500000</td>\n",
       "      <td>10144.000000</td>\n",
       "      <td>22982.500000</td>\n",
       "      <td>28765.666667</td>\n",
       "      <td>9773.500000</td>\n",
       "    </tr>\n",
       "    <tr>\n",
       "      <th>8</th>\n",
       "      <td>690.333333</td>\n",
       "      <td>649.000000</td>\n",
       "      <td>652.500000</td>\n",
       "      <td>676.666667</td>\n",
       "      <td>10311.333333</td>\n",
       "      <td>23565.000000</td>\n",
       "      <td>29168.000000</td>\n",
       "      <td>9938.666667</td>\n",
       "    </tr>\n",
       "    <tr>\n",
       "      <th>All Grades</th>\n",
       "      <td>698.666667</td>\n",
       "      <td>661.166667</td>\n",
       "      <td>664.500000</td>\n",
       "      <td>689.333333</td>\n",
       "      <td>61566.666667</td>\n",
       "      <td>132951.666667</td>\n",
       "      <td>172041.666667</td>\n",
       "      <td>61044.000000</td>\n",
       "    </tr>\n",
       "  </tbody>\n",
       "</table>\n",
       "</div>"
      ],
      "text/plain": [
       "           Mean Scale Score                                     Number Tested  \\\n",
       "Category              Asian       Black    Hispanic       White         Asian   \n",
       "Grade                                                                           \n",
       "3                705.000000  676.000000  678.333333  698.833333  10351.000000   \n",
       "4                707.000000  669.166667  672.166667  698.166667  10323.333333   \n",
       "5                701.833333  665.500000  668.833333  693.500000  10349.666667   \n",
       "6                697.000000  657.000000  660.000000  685.833333  10087.333333   \n",
       "7                690.166667  653.000000  655.833333  681.500000  10144.000000   \n",
       "8                690.333333  649.000000  652.500000  676.666667  10311.333333   \n",
       "All Grades       698.666667  661.166667  664.500000  689.333333  61566.666667   \n",
       "\n",
       "                                                        \n",
       "Category            Black       Hispanic         White  \n",
       "Grade                                                   \n",
       "3            21343.666667   28854.666667  10759.166667  \n",
       "4            21490.833333   28589.166667  10475.833333  \n",
       "5            21620.000000   28497.333333  10276.000000  \n",
       "6            21949.666667   28166.833333   9820.833333  \n",
       "7            22982.500000   28765.666667   9773.500000  \n",
       "8            23565.000000   29168.000000   9938.666667  \n",
       "All Grades  132951.666667  172041.666667  61044.000000  "
      ]
     },
     "execution_count": 11,
     "metadata": {},
     "output_type": "execute_result"
    }
   ],
   "source": [
    "my_pivot = pd.pivot_table(df,\n",
    "                          index = 'Grade',\n",
    "                          values = ['Mean Scale Score','Number Tested'],\n",
    "                          columns = 'Category',\n",
    "                          aggfunc = 'mean'\n",
    "                         )\n",
    "my_pivot  "
   ]
  },
  {
   "cell_type": "markdown",
   "metadata": {},
   "source": [
    "#### Limitaciones\n",
    "No pude crear un rango de niveles y presentarlo como valores como lo hicimos en la clase 5. Para crear graficas de tendencias."
   ]
  },
  {
   "cell_type": "code",
   "execution_count": null,
   "metadata": {},
   "outputs": [],
   "source": []
  }
 ],
 "metadata": {
  "kernelspec": {
   "display_name": "Python 3 (ipykernel)",
   "language": "python",
   "name": "python3"
  },
  "language_info": {
   "codemirror_mode": {
    "name": "ipython",
    "version": 3
   },
   "file_extension": ".py",
   "mimetype": "text/x-python",
   "name": "python",
   "nbconvert_exporter": "python",
   "pygments_lexer": "ipython3",
   "version": "3.7.10"
  }
 },
 "nbformat": 4,
 "nbformat_minor": 4
}
